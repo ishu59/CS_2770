{
 "cells": [
  {
   "cell_type": "code",
   "execution_count": 1,
   "metadata": {},
   "outputs": [],
   "source": [
    "import numpy as np\n",
    "import matplotlib.pyplot as plt\n",
    "import cv2\n",
    "from scipy.io import loadmat\n",
    "from scipy.ndimage import convolve\n",
    "from scipy.misc import imread,imresize,imfilter"
   ]
  },
  {
   "cell_type": "code",
   "execution_count": 2,
   "metadata": {},
   "outputs": [
    {
     "name": "stderr",
     "output_type": "stream",
     "text": [
      "C:\\Users\\ashis\\Anaconda3\\envs\\tensorflow\\lib\\site-packages\\ipykernel\\__main__.py:1: DeprecationWarning: `imread` is deprecated!\n",
      "`imread` is deprecated in SciPy 1.0.0, and will be removed in 1.2.0.\n",
      "Use ``imageio.imread`` instead.\n",
      "  if __name__ == '__main__':\n"
     ]
    }
   ],
   "source": [
    "img = imread('img/cardinal1.jpg')\n",
    "#img = cv2.cvtColor(img,cv2.COLOR_RGB2GRAY)\n",
    "lmFilterBank =  loadmat('filter/filters.mat')\n",
    "lmFilter = lmFilterBank[\"F\"]\n"
   ]
  },
  {
   "cell_type": "code",
   "execution_count": 59,
   "metadata": {},
   "outputs": [],
   "source": [
    "\n"
   ]
  },
  {
   "cell_type": "code",
   "execution_count": 3,
   "metadata": {},
   "outputs": [],
   "source": [
    "def computeTextureReprs(image,F,RGB=True):\n",
    "    '''\n",
    "    X axis of responses is number of filters \n",
    "    Assuming that the filter will be of size 49x49 in our case\n",
    "    The color channels are RGB (matplotlib used to read image, cv2 Imread has color channels as BGR)\n",
    "    '''\n",
    "    if RGB:\n",
    "        param = cv2.COLOR_RGB2GRAY\n",
    "    else:\n",
    "        param = cv2.COLOR_BGR2GRAY\n",
    "        \n",
    "    image = cv2.cvtColor(image,param)\n",
    "    x = F.shape[2]\n",
    "    y,z = image.shape\n",
    "    responses = np.zeros((x,y,z))\n",
    "\n",
    "    for i in range(x):\n",
    "        responses[i,:,:] = convolve(image,F[:,:,i])\n",
    "\n",
    "    texture_repr_concat = responses.flatten()\n",
    "    print('Printing texture_repr_concat.shape',texture_repr_concat.shape)\n",
    "    texture_repr_mean = np.mean(responses,axis=(1,2))\n",
    "    texture_repr_mean = texture_repr_mean.reshape((texture_repr_mean.shape[0],-1))\n",
    "    return (texture_repr_concat,texture_repr_mean)\n"
   ]
  },
  {
   "cell_type": "code",
   "execution_count": 10,
   "metadata": {},
   "outputs": [
    {
     "name": "stdout",
     "output_type": "stream",
     "text": [
      "Printing texture_repr_concat.shape (2640000,)\n"
     ]
    }
   ],
   "source": [
    "#Testing the function created\n",
    "a2,b2 = computeTextureReprs(img,lmFilter)"
   ]
  },
  {
   "cell_type": "code",
   "execution_count": 5,
   "metadata": {},
   "outputs": [
    {
     "name": "stdout",
     "output_type": "stream",
     "text": [
      "78.91523636363637\n",
      "[78.91523636]\n"
     ]
    }
   ],
   "source": [
    "#Testing the function created\n",
    "print(np.mean(a2[55000:110000]))\n",
    "print(b2[1])"
   ]
  },
  {
   "cell_type": "code",
   "execution_count": 6,
   "metadata": {},
   "outputs": [],
   "source": [
    "def computeTextureReprs2(image,F,RGB=True):\n",
    "    '''\n",
    "    Assuming that the filter will be of size 49x49 in our case\n",
    "    The color channels are RGB (matplotlib used to read image, cv2 Imread has color channels as BGR)\n",
    "    '''\n",
    "    if RGB:\n",
    "        param = cv2.COLOR_RGB2GRAY\n",
    "    else:\n",
    "        param = cv2.COLOR_BGR2GRAY\n",
    "    \n",
    "    #F = lmFilterBank[\"F\"]\n",
    "    #print(F.shape)\n",
    "    image = cv2.cvtColor(image,param)\n",
    "    z = F.shape[2]\n",
    "    x,y = image.shape\n",
    "    responses = np.zeros((x,y,z))\n",
    "    for i in range(z):\n",
    "        responses[:,:,i] = convolve(image,F[:,:,i])\n",
    "\n",
    "    texture_repr_concat = responses.flatten()\n",
    "    print('Printing texture_repr_concat.shape',texture_repr_concat.shape)\n",
    "    texture_repr_mean = np.mean(responses,axis=(0,1))\n",
    "    texture_repr_mean = texture_repr_mean.reshape((texture_repr_mean.shape[0],-1))\n",
    "    return (texture_repr_concat,texture_repr_mean)\n"
   ]
  },
  {
   "cell_type": "code",
   "execution_count": 9,
   "metadata": {},
   "outputs": [
    {
     "name": "stdout",
     "output_type": "stream",
     "text": [
      "Printing texture_repr_concat.shape (2640000,)\n"
     ]
    }
   ],
   "source": [
    "#Testing the function created\n",
    "a,b = computeTextureReprs2(img,lmFilter)"
   ]
  },
  {
   "cell_type": "code",
   "execution_count": 7,
   "metadata": {},
   "outputs": [
    {
     "name": "stdout",
     "output_type": "stream",
     "text": [
      "78.91523636363637\n",
      "[78.91523636]\n"
     ]
    }
   ],
   "source": [
    "#Testing the function created\n",
    "print(np.mean(a[55000:110000]))\n",
    "print(b[1])"
   ]
  }
 ],
 "metadata": {
  "kernelspec": {
   "display_name": "Python [conda env:tensorflow]",
   "language": "python",
   "name": "conda-env-tensorflow-py"
  },
  "language_info": {
   "codemirror_mode": {
    "name": "ipython",
    "version": 3
   },
   "file_extension": ".py",
   "mimetype": "text/x-python",
   "name": "python",
   "nbconvert_exporter": "python",
   "pygments_lexer": "ipython3",
   "version": "3.5.6"
  }
 },
 "nbformat": 4,
 "nbformat_minor": 2
}
